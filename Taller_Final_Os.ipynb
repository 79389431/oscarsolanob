{
  "nbformat": 4,
  "nbformat_minor": 0,
  "metadata": {
    "colab": {
      "provenance": []
    },
    "kernelspec": {
      "name": "python3",
      "display_name": "Python 3"
    },
    "language_info": {
      "name": "python"
    }
  },
  "cells": [
    {
      "cell_type": "code",
      "source": [
        "# TALLER FINAL integrar Ciclos y Funciones en el código del Taller 1 y Taller 2 Oscar Solano\n",
        "#import os\n",
        "import time\n",
        "while True:\n",
        "    print(\"\\033[4;35m\" +\"MENU DE EJERCICIOS \\nDigita T para TRABAJADOR.\\nDigita E para ESTUDIANTE.\\nDigita H para Validar.\\nDigita X para salir.\")\n",
        "    opcion=input()\n",
        "    if opcion.upper() == 'T':\n",
        "        Edad = int(input(\"Digite La Edad del Trabajador: \"))\n",
        "        Sueldo_basico = float(input(\"Digitde el Sueldo Basico: \"))\n",
        "        if Edad > 55:\n",
        "          Bono = (Sueldo_basico * 0.5)/100\n",
        "          Sueldo_Total = Sueldo_basico + Bono\n",
        "          print (\"\\033[92m\" +f\"Tiene Bono Prepension\\tEl Sueldo mas Bono es:\\n ${Bono:,.0f}\\t\\t\\t${Sueldo_Total:,.0f}\")\n",
        "          print (\"*******************************************\")\n",
        "          if Sueldo_basico >= 1000000 and Sueldo_basico < 1500001:\n",
        "             Comision1 = (Sueldo_basico * 0.2)/100\n",
        "             Sueldo_Comision1 = Sueldo_basico + Comision1\n",
        "             print (\"\\033[94m\" +f\"Comision\\tEl Sueldo mas Comision es:\\n ${Comision1:,.0f}\\t\\t${Sueldo_Comision1:,.0f}\")\n",
        "             print(\"\\033[94m\" +\"*****************************\")\n",
        "    elif opcion.upper() =='E':\n",
        "              OpSi = \"s\"\n",
        "              ContP = 0\n",
        "              CantP = 0\n",
        "              PromedioT = 0\n",
        "              Alumnos = 0\n",
        "              while OpSi ==\"s\" and CantP  < 6:\n",
        "                        for i in range(5):\n",
        "                          calificacion = float(input(f\"Ingrese la calificación del parcial {i+1}: \"))\n",
        "                          CantP = CantP + 1\n",
        "                          ContP = ContP + calificacion\n",
        "                          promedio = ContP / CantP\n",
        "                        else:\n",
        "                          OpSi = input(\"¿Desea capturar otro alumno? (s/n): \")\n",
        "                          print(\"\\033[94m\" +f\"El promedio del alumno es: {promedio}\")\n",
        "                          Alumnos = Alumnos + 1\n",
        "                          PromedioT = (PromedioT + promedio)/Alumnos\n",
        "                          print(\"\\033[95m\" +f\"Alumnos: {Alumnos}\")\n",
        "                        if OpSi.lower() != \"s\":\n",
        "                          print(\"\\033[92m\" +\"*****************************\")\n",
        "                          print(\"\\033[91m\" +f\"El promedio general es: {PromedioT}\")\n",
        "                          print(\"\\033[92m\" +\"*****************************\")\n",
        "                          break\n",
        "    elif opcion.upper() == \"H\":\n",
        "      def validaedad(edad):\n",
        "        if edad > 57:\n",
        "          print(\"\\033[94m\" +\"Tiene derecho a Bono Prepension \")\n",
        "          print(\"\\033[94m\" +\"*****************************\")\n",
        "        else:\n",
        "          print(\"\\033[91m\" +\"Sin Bono, Sigue Cotizando\")\n",
        "          print(\"\\033[91m\" +\"*****************************\")\n",
        "      OpcT = \"s\"\n",
        "      while OpcT== \"s\":\n",
        "        Edad = float(input(\"Digite la edad del Trabajador: \"))\n",
        "        validaedad(Edad)\n",
        "        OpcT = input(\"Validamos otro Trabajador...? (s/n)\")\n",
        "\n",
        "        if OpcT.lower() != \"s\":\n",
        "                 print(\"\\033[94m\" +\"OK\")\n",
        "                 break\n",
        "                 break\n",
        "    elif opcion.upper() == \"X\":\n",
        "            print(\"\\033[91m\" +\"CHAO\")\n",
        "            break\n",
        "            break\n",
        "#os.system(\"cls\")\n"
      ],
      "metadata": {
        "id": "8aO3jIb5pYCo"
      },
      "execution_count": null,
      "outputs": []
    }
  ]
}