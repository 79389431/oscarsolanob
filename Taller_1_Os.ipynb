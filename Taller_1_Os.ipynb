{
  "nbformat": 4,
  "nbformat_minor": 0,
  "metadata": {
    "colab": {
      "provenance": []
    },
    "kernelspec": {
      "name": "python3",
      "display_name": "Python 3"
    },
    "language_info": {
      "name": "python"
    }
  },
  "cells": [
    {
      "cell_type": "code",
      "execution_count": null,
      "metadata": {
        "id": "0D_5EnpS5l9G"
      },
      "outputs": [],
      "source": [
        "# TALLER 1 Y Taller 3 Oscar Solano\n",
        "#No_Iden = input(\"Digite Su No. de Documento: \")\n",
        "#Nombres = input(\"Digite Nombres: \")\n",
        "#Apellidos = input(\"Digite Apellidos: \")\n",
        "#Direccion = input(\"Digite la Direccion: \")\n",
        "#Telefono = input(\"Digite El No. de Celular: \")\n",
        "Edad = int(input(\"Digite Su Edad: \"))\n",
        "#Estado_Civil = input(\"Digite Su Estado Civil: \")\n",
        "Numero_de_hijos = int(input(\"Digite Numero de Hijos: \"))\n",
        "#EstaturaCTM = input(\"Digite Su Estatura: \")\n",
        "#Fechacontrato = input(\"Digite Fecha de Contratacion DD/MM/AA: \")\n",
        "Sueldo_basico = float(input(\"Digitde el Sueldo Basico: \"))\n",
        "#Días_Laborados = input(\"Digite Los Dias Laborados: \")\n",
        "print(\"********************************\")\n",
        "print(f\" No. de CC:\\tNombre\\t\\tApellidos:\\t\\tDireccion\\tTelefono\\tEdad\\tEstado Civil\\tNo. Hijos\\tEstatura\\tFecha\\tSueldo\\n {No_Iden}\\t{Nombres}\\t{Apellidos}\\t\\t\\t{Direccion}\\t{Telefono}\\t{Edad}\\t{Estado_Civil}\\t\\t{Numero_de_hijos}\\t\\t{EstaturaCTM}\\t\\t{Fechacontrato}\\t{Sueldo_basico}\")\n",
        "\n",
        "# TALLER 3 Oscar Solano\n",
        "DiaLabor = int(input(\"Digite No de Dias Laborados: \"))\n",
        "if Edad > 55:\n",
        "  Bono = (Sueldo_basico * 0.5)/100\n",
        "  Sueldo_Total = Sueldo_basico + Bono\n",
        "  print (f\"Tiene Bono Prepension\\tEl Sueldo mas Bono es:\\n ${Bono:,.0f}\\t\\t\\t${Sueldo_Total:,.0f}\")\n",
        "if Numero_de_hijos > 0:\n",
        "  print(\"********************************\")\n",
        "  print (\"\\033[4;35m\"+\"OJO---> El trabajador tiene derecho a dias de descanso remunerado en Diciembre \")\n",
        "if Sueldo_basico >= 1000000 and Sueldo_basico < 1500001:\n",
        "  print(\"********************************\")\n",
        "  Comision1 = (Sueldo_basico * 0.2)/100\n",
        "  Sueldo_Comision1 = Sueldo_basico + Comision1\n",
        "  print (f\"Comision\\tEl Sueldo mas Comision es:\\n ${Comision1:,.0f}\\t\\t${Sueldo_Comision1:,.0f}\")\n",
        "elif Sueldo_basico >= 1500001 and Sueldo_basico < 2000001:\n",
        "    print(\"********************************\")\n",
        "    Comision2 = (Sueldo_basico * 0.5)/100\n",
        "    Sueldo_Comision2 = Sueldo_basico + Comision2\n",
        "    print (f\"Comision\\tEl Sueldo mas Comision es:\\n ${Comision2:,.0f}\\t\\t${Sueldo_Comision2:,.0f}\")\n",
        "else:\n",
        "      print(\"********************************\")\n",
        "      print (\"\\033[92m\"+\"No Tiene Comision \")\n",
        "if DiaLabor > 20 and Sueldo_basico < 1000000:\n",
        "  print (\"\\033[94m\" +\"OJO---> El trabajador tiene derecho a Bono de Alimentacion \")\n"
      ]
    },
    {
      "cell_type": "code",
      "source": [],
      "metadata": {
        "id": "rdZBn3POnn-m"
      },
      "execution_count": null,
      "outputs": []
    }
  ]
}