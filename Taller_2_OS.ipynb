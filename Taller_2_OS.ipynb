{
  "nbformat": 4,
  "nbformat_minor": 0,
  "metadata": {
    "colab": {
      "provenance": []
    },
    "kernelspec": {
      "name": "python3",
      "display_name": "Python 3"
    },
    "language_info": {
      "name": "python"
    }
  },
  "cells": [
    {
      "cell_type": "code",
      "execution_count": null,
      "metadata": {
        "id": "aEIzP9dRAHsz"
      },
      "outputs": [],
      "source": [
        "# Ejercicio 1\n",
        "SueldoBase = float(input(\"Digite el Sueldo Base: \"))\n",
        "Comision = 0.10\n",
        "Venta1 =  float(input(\"Digite el Valor de la 1a. Venta: \"))\n",
        "Venta2 =  float(input(\"Digite el Valor de la 2a. Venta: \"))\n",
        "Venta3 =  float(input(\"Digite el Valor de la 3a. Venta: \"))\n",
        "VentaM = Venta1 + Venta2 + Venta3\n",
        "TotComision = VentaM * Comision\n",
        "SueldoTot = (SueldoBase + TotComision)\n",
        "print (\"*************************************************\")\n",
        "print(f\" Sueldo Base\\tVentas Mes\\tComisión x Ventas\\tSueldo Total\\n ${SueldoBase:,.2f}\\t${VentaM:,.2f}\\t${TotComision:,.2f}\\t\\t${SueldoTot:,.2f}\")\n",
        "\n"
      ]
    },
    {
      "cell_type": "code",
      "source": [
        "0# Ejercicio 2\n",
        "VlrCompra = float(input(\"Digite el Valor de la Compra: \"))\n",
        "Descuento = VlrCompra * 0.15\n",
        "TotCompra = VlrCompra - Descuento\n",
        "print (\"*************************************************\")\n",
        "print(f\" Valor Bruto Compra\\tValor Descuento\\tValor Neto Compra\\n ${VlrCompra:,.2f}\\t\\t${Descuento:,.2f}\\t${TotCompra:,.2f}\")\n"
      ],
      "metadata": {
        "id": "6Va1T7LCLdGl"
      },
      "execution_count": null,
      "outputs": []
    },
    {
      "cell_type": "code",
      "source": [
        "# Ejercicio 3\n",
        "Parcial1 = float(input(\"Digite Nota del Parcial 1: \"))\n",
        "Parcial2 = float(input(\"Digite Nota del Parcial 2: \"))\n",
        "Parcial3 = float(input(\"Digite Nota del Parcial 3: \"))\n",
        "Promedio = round((Parcial1+Parcial2+Parcial3)/3,2)\n",
        "print (\"*************************************************\")\n",
        "print(f\"Nota Final\\n {Promedio}\")\n"
      ],
      "metadata": {
        "id": "_-eoqdbABvkJ"
      },
      "execution_count": null,
      "outputs": []
    },
    {
      "cell_type": "code",
      "source": [
        "from traitlets.traitlets import Int\n",
        "# Ejercicio 4\n",
        "CantH = int(input(\"Digite Cantidad de Hombres: \"))\n",
        "CantM = int(input(\"Digite Cantidad de Mujeres: \"))\n",
        "TotEst = int(CantH + CantM)\n",
        "PorcH = round(float(CantH/TotEst)*100.0)\n",
        "PorcM = round(float(CantM/TotEst)*100.0)\n",
        "print (\"*************************************************\")\n",
        "print(f\" Total Estudiantes\\tPorcentaje Hombres\\tPorcentaje Mujeres\\n {TotEst}\\t\\t\\t%{PorcH}\\t\\t\\t%{PorcM}\")\n",
        "\n"
      ],
      "metadata": {
        "id": "y9nfBJqbIcPN"
      },
      "execution_count": null,
      "outputs": []
    }
  ]
}