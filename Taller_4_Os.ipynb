{
  "nbformat": 4,
  "nbformat_minor": 0,
  "metadata": {
    "colab": {
      "provenance": []
    },
    "kernelspec": {
      "name": "python3",
      "display_name": "Python 3"
    },
    "language_info": {
      "name": "python"
    }
  },
  "cells": [
    {
      "cell_type": "code",
      "execution_count": null,
      "metadata": {
        "id": "sIcfEre4nib5"
      },
      "outputs": [],
      "source": [
        "#Ejercicio 1"
      ]
    },
    {
      "cell_type": "code",
      "source": [
        "\n",
        "Multiplicando = int(input(\"Digite el número a multiplicar: \"))\n",
        "\n",
        "for j in range(11):\n",
        "  print(j, \" x \", Multiplicando , \" = \",\"\\033[91m\", + Multiplicando * j)\n",
        "else:\n",
        "  print(\"\\033[94m\" +\"Fin Ciclo\")"
      ],
      "metadata": {
        "id": "7mwDxKrJJZ2N"
      },
      "execution_count": null,
      "outputs": []
    },
    {
      "cell_type": "code",
      "source": [
        "#Ejercicio 2\n",
        "OpSi = \"s\"\n",
        "SueldoT =  0\n",
        "while OpSi == str(\"s\"): # or OpSi != \"n\":\n",
        "  #SueldoT =  0\n",
        "  SueldoT = float(input(\"Digite el Sueldo del Trabajador: \"))\n",
        "  if SueldoT > 655000:\n",
        "      print(\"\\033[91m\" +\"El trabajador no tiene Bonificacion\")\n",
        "      break\n",
        "  Bonificacion = (SueldoT * 0.4)/100\n",
        "  TotSueldo = (SueldoT + Bonificacion)\n",
        "  print(\"\\033[94m\" +f\"Sueldo Sin Bonificacion\\t\\tBonificacion\\tSueldo Con Bonificacion\\n ${int(SueldoT):,.0f}\\t\\t\\t${Bonificacion:,.0f}\\t\\t${TotSueldo:,.0f}\")\n",
        "  OpSi = input(\"¿Desea digitar otro Sueldo? (s/n)\")\n",
        "else:\n",
        "  if OpSi.lower() != \"s\":     \n",
        "              print(\"\\033[91m\" +\"Chao\")\n",
        "   "
      ],
      "metadata": {
        "id": "u9ofwb2soOKR"
      },
      "execution_count": null,
      "outputs": []
    },
    {
      "cell_type": "code",
      "source": [
        "#Ejercicio 3\n",
        "OpSi = \"s\"\n",
        "ContP = 0\n",
        "CantP = 0\n",
        "PromedioT = 0\n",
        "Alumnos = 0\n",
        "while OpSi ==\"s\" and CantP  < 6:\n",
        "  for i in range(5):\n",
        "    calificacion = float(input(f\"Ingrese la calificación del parcial {i+1}: \"))\n",
        "    CantP = CantP + 1\n",
        "    ContP = ContP + calificacion\n",
        "    promedio = ContP / CantP\n",
        "  else:\n",
        "    OpSi = input(\"¿Desea capturar otro alumno? (s/n): \")\n",
        "    print(\"\\033[94m\" +f\"El promedio del alumno es: {promedio}\")\n",
        "    Alumnos = Alumnos + 1\n",
        "    PromedioT = (PromedioT + promedio)/Alumnos\n",
        "    print(\"\\033[95m\" +f\"Alumnos: {Alumnos}\")\n",
        "  if OpSi.lower() != \"s\":\n",
        "            print(\"\\033[92m\" +\"*****************************\")\n",
        "            print(\"\\033[91m\" +f\"El promedio general es: {PromedioT}\")\n",
        "            break\n",
        "            "
      ],
      "metadata": {
        "id": "rk1GSCL837BV"
      },
      "execution_count": null,
      "outputs": []
    },
    {
      "cell_type": "code",
      "source": [
        "#Ejercicio 6\n",
        "EdadU = int(input(\"Digite Su Edad: \"))\n",
        "for K in range(EdadU):\n",
        "  print(f\"Años Cumplidos: {K+1}\")\n",
        "else:\n",
        "  print(\"Ultima Edad\")\n",
        "\n"
      ],
      "metadata": {
        "id": "QH_KlbUlg9RF"
      },
      "execution_count": null,
      "outputs": []
    }
  ]
}